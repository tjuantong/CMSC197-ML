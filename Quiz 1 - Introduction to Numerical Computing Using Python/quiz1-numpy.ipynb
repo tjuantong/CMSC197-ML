{
 "cells": [
  {
   "cell_type": "markdown",
   "id": "cfa9e0a8",
   "metadata": {},
   "source": [
    "# CMSC 197 Machine Learning: Numpy Quiz 1\n",
    "Submitted by: Trixelle Johanna Juan Tong "
   ]
  },
  {
   "cell_type": "markdown",
   "id": "c40b5e7e",
   "metadata": {},
   "source": [
    "## Import numpy library\n",
    "We will be importing numpy for us to work on the arrays and use its pre-built functions"
   ]
  },
  {
   "cell_type": "code",
   "execution_count": 1,
   "id": "fbbc0165",
   "metadata": {},
   "outputs": [],
   "source": [
    "import numpy as np"
   ]
  },
  {
   "cell_type": "markdown",
   "id": "fb68e452",
   "metadata": {},
   "source": [
    "## Part 1\n",
    "### Create y_hat 1D array\n",
    "- Initialize y_hat with 20 linearly spaced numbers between -1 and 1\n",
    "- We can achieve this by using the __np.linspace(start, end, num)__ function where:\n",
    "    - start and end values are the range of the interval\n",
    "    - num is the number of values for the linearly spaced we need at the specific range\n",
    "- The function will return evenly spaced numbers at the given range"
   ]
  },
  {
   "cell_type": "code",
   "execution_count": 2,
   "id": "aad9f276",
   "metadata": {},
   "outputs": [
    {
     "name": "stdout",
     "output_type": "stream",
     "text": [
      "y_hat array: [-1.         -0.89473684 -0.78947368 -0.68421053 -0.57894737 -0.47368421\n",
      " -0.36842105 -0.26315789 -0.15789474 -0.05263158  0.05263158  0.15789474\n",
      "  0.26315789  0.36842105  0.47368421  0.57894737  0.68421053  0.78947368\n",
      "  0.89473684  1.        ]\n"
     ]
    }
   ],
   "source": [
    "# store the evenly spaced numbers at y_hat variable\n",
    "# used the format() method in using {} placeholders for formatting print statements\n",
    "y_hat = np.array(np.linspace(-1, 1, num=20))\n",
    "print(\"y_hat array: {}\".format(y_hat))"
   ]
  },
  {
   "cell_type": "markdown",
   "id": "ffdfbd7e",
   "metadata": {},
   "source": [
    "### Create y 1D array\n",
    "- Initialize y with 20 linearly spaced numbers between -0 and 1\n",
    "- We can achieve this by using the __np.linspace(start, end, num)__ function where:\n",
    "    - start and end values are the range of the interval\n",
    "    - num is the number of values for the linearly spaced we need at the specific range\n",
    "- The function will return evenly spaced numbers at the given range"
   ]
  },
  {
   "cell_type": "code",
   "execution_count": 3,
   "id": "df3af7c1",
   "metadata": {},
   "outputs": [
    {
     "name": "stdout",
     "output_type": "stream",
     "text": [
      "y array: [0.         0.05263158 0.10526316 0.15789474 0.21052632 0.26315789\n",
      " 0.31578947 0.36842105 0.42105263 0.47368421 0.52631579 0.57894737\n",
      " 0.63157895 0.68421053 0.73684211 0.78947368 0.84210526 0.89473684\n",
      " 0.94736842 1.        ]\n"
     ]
    }
   ],
   "source": [
    "# store the evenly spaced numbers at y variable\n",
    "y = np.array(np.linspace(0, 1, num=20))\n",
    "print(\"y array: {}\".format(y))"
   ]
  },
  {
   "cell_type": "markdown",
   "id": "0bcd0bb1",
   "metadata": {},
   "source": [
    "### Computing for the shape and dimension of y_hat and y\n",
    "- We will be using __shape__ and __ndim__ attributes\n",
    "- The shape attribute returns a tuple containing the number of rows and columns of the array\n",
    "- The ndim attribute returns the array dimensions"
   ]
  },
  {
   "cell_type": "code",
   "execution_count": 4,
   "id": "4ab8ff8c",
   "metadata": {},
   "outputs": [
    {
     "name": "stdout",
     "output_type": "stream",
     "text": [
      "y_hat shape = (20,)\n",
      "y_hat dimension = 1\n",
      "y shape = (20,)\n",
      "y dimension = 1\n"
     ]
    }
   ],
   "source": [
    "# printing the y_hat and y shape and dimension\n",
    "print(\"y_hat shape = {}\".format(y_hat.shape))\n",
    "print(\"y_hat dimension = {}\".format(y_hat.ndim))\n",
    "print(\"y shape = {}\".format(y.shape))\n",
    "print(\"y dimension = {}\".format(y.ndim))"
   ]
  },
  {
   "cell_type": "markdown",
   "id": "7f087301",
   "metadata": {},
   "source": [
    "### Creating each of the loss functions\n",
    "- Create the following loss functions:\n",
    "    - Mean Squared Error\n",
    "    - Mean Absolute Error\n",
    "    - Mean Squared Logarithmic Error\n",
    "    - Mean Absolute Percentage Error"
   ]
  },
  {
   "cell_type": "code",
   "execution_count": 5,
   "id": "1ff2bc13",
   "metadata": {},
   "outputs": [],
   "source": [
    "# Parameters are y_hat and y\n",
    "# each function will return the loss value\n",
    "\n",
    "#Mean Squared Error function\n",
    "def mean_squared_error(y_hat, y):\n",
    "    squared_diff = np.square(y_hat-y)\n",
    "    L = squared_diff.mean()\n",
    "    return L\n",
    "    \n",
    "# Mean Absolute Error function\n",
    "def mean_abs_error(y_hat, y):\n",
    "    abs_sum = abs(y_hat-y)\n",
    "    L = abs_sum.mean()\n",
    "    return L\n",
    "\n",
    "# Mean Squared Logarithmic Error\n",
    "# should only contain non-negative target variables\n",
    "def mean_squared_log_error(y_hat, y):\n",
    "    log_squared = np.square(np.log(y_hat+1)-np.log(y+1))\n",
    "    L = log_squared.mean()\n",
    "    \n",
    "    if L == np.inf:\n",
    "        return \"ERROR: Target variable contains negative values\"\n",
    "    else:\n",
    "        return L\n",
    "\n",
    "# Mean Absolute Percentage Error\n",
    "# may return an undefined value if there's 0 since values cannot be divided to 0 \n",
    "def mean_abs_percent_error(y_hat, y):\n",
    "    abs_sum = abs((y_hat-y) / y) * 1\n",
    "    L = abs_sum.mean()\n",
    "    \n",
    "    if L == np.inf:\n",
    "        return \"ERROR: values contain zero\"\n",
    "    else:\n",
    "        return L\n"
   ]
  },
  {
   "cell_type": "markdown",
   "id": "805bd583",
   "metadata": {},
   "source": [
    "### Calling the different loss functions\n",
    "- The functions will return the loss value\n",
    "- Note: MSLE needs the target variable to be non-negative values, but there are negative values in y_hat array"
   ]
  },
  {
   "cell_type": "code",
   "execution_count": 6,
   "id": "0df1a814",
   "metadata": {},
   "outputs": [
    {
     "name": "stdout",
     "output_type": "stream",
     "text": [
      "Mean Squared Error =  0.3421052631578948\n",
      "Mean Absolute Error =  0.4999999999999999\n",
      "Mean Squared Logarithmic Error =  ERROR: Target variable contains negative values\n",
      "Mean Absolute Percentage Error =  ERROR: values contain zero\n"
     ]
    },
    {
     "name": "stderr",
     "output_type": "stream",
     "text": [
      "C:\\Users\\Trixelle JT\\AppData\\Local\\Temp\\ipykernel_26196\\129419316.py:19: RuntimeWarning: divide by zero encountered in log\n",
      "  log_squared = np.square(np.log(y_hat+1)-np.log(y+1))\n",
      "C:\\Users\\Trixelle JT\\AppData\\Local\\Temp\\ipykernel_26196\\129419316.py:30: RuntimeWarning: divide by zero encountered in true_divide\n",
      "  abs_sum = abs((y_hat-y) / y) * 1\n"
     ]
    }
   ],
   "source": [
    "print(\"Mean Squared Error = \", mean_squared_error(y_hat, y))\n",
    "print(\"Mean Absolute Error = \", mean_abs_error(y_hat, y))\n",
    "print(\"Mean Squared Logarithmic Error = \", mean_squared_log_error(y_hat, y))\n",
    "print(\"Mean Absolute Percentage Error = \", mean_abs_percent_error(y_hat, y))"
   ]
  },
  {
   "cell_type": "markdown",
   "id": "30cafb6c",
   "metadata": {},
   "source": [
    "## Part 2"
   ]
  },
  {
   "cell_type": "markdown",
   "id": "9aba606f",
   "metadata": {},
   "source": [
    "### 1) Create M 1d array using arange function\n",
    "- The function __np.arange([start,]stop, [step,]dtype)__ takes in params of:\n",
    "    - start: the start value of the range (inclusive)\n",
    "    - stop: the end value of the range (exclusive)"
   ]
  },
  {
   "cell_type": "code",
   "execution_count": 7,
   "id": "6e46ad77",
   "metadata": {},
   "outputs": [
    {
     "name": "stdout",
     "output_type": "stream",
     "text": [
      "M array: [ 1  2  3  4  5  6  7  8  9 10 11 12 13 14 15 16]\n"
     ]
    }
   ],
   "source": [
    "# create a 1d array from 1 to 16\n",
    "M = np.arange(1,17)\n",
    "print(\"M array: {}\".format(M))"
   ]
  },
  {
   "cell_type": "markdown",
   "id": "1ff7d46e",
   "metadata": {},
   "source": [
    "### 2) Reshaping M into 4x4 array\n",
    "- To change the shape of the 1d array to a 4x4 array, we will be using the __reshape(shape)__ function where:\n",
    "    - shape is the number of rows, and columns it would be changed to"
   ]
  },
  {
   "cell_type": "code",
   "execution_count": 8,
   "id": "97a4830c",
   "metadata": {},
   "outputs": [
    {
     "name": "stdout",
     "output_type": "stream",
     "text": [
      "N array:\n",
      "[[ 1  2  3  4]\n",
      " [ 5  6  7  8]\n",
      " [ 9 10 11 12]\n",
      " [13 14 15 16]]\n"
     ]
    }
   ],
   "source": [
    "# reshape M array to have 4 rows and 4 columns\n",
    "N = M.reshape(4,4)\n",
    "print(\"N array:\\n{}\".format(N))"
   ]
  },
  {
   "cell_type": "markdown",
   "id": "c988cae8",
   "metadata": {},
   "source": [
    "### 3) Getting the 2nd Row of N"
   ]
  },
  {
   "cell_type": "code",
   "execution_count": 9,
   "id": "a620cd29",
   "metadata": {},
   "outputs": [
    {
     "name": "stdout",
     "output_type": "stream",
     "text": [
      "2nd row of N: [5 6 7 8]\n"
     ]
    }
   ],
   "source": [
    "# to get the 2nd row, we should index at 1 since arrays start at index 0\n",
    "print(\"2nd row of N: {}\".format(N[1]))"
   ]
  },
  {
   "cell_type": "markdown",
   "id": "ed3a228a",
   "metadata": {},
   "source": [
    "### 4) Getting the minimum values per column of N\n",
    "- To get the minimum values per column, we will be using the __np.min(ndarray, axis)__ function where:\n",
    "    - ndarray is the array we will use to find the minimum value\n",
    "    - axis is to indicate whether we are finding it for the rows or columns"
   ]
  },
  {
   "cell_type": "code",
   "execution_count": 10,
   "id": "308510df",
   "metadata": {},
   "outputs": [
    {
     "name": "stdout",
     "output_type": "stream",
     "text": [
      "Minimum values of each column in Array N\n",
      "Column 0 = 1\n",
      "Column 1 = 2\n",
      "Column 2 = 3\n",
      "Column 3 = 4\n"
     ]
    }
   ],
   "source": [
    "# getting the min value for each column where axis = 0\n",
    "min_val = np.min(N, axis=0)\n",
    "\n",
    "print(\"Minimum values of each column in Array N\")\n",
    "\n",
    "# prints the minimum value per column of array N\n",
    "for column in range(len(min_val)):\n",
    "    print(\"Column {} = {}\".format(column, min_val[column]))"
   ]
  },
  {
   "cell_type": "markdown",
   "id": "cc0d8dd7",
   "metadata": {},
   "source": [
    "### 5) Getting the locations of the minimum values per column of N\n",
    "- To get the locations of the minimum values per column, we will be using the __np.where(condition)__ function where:\n",
    "    - condition is used to return elements that satisfy it "
   ]
  },
  {
   "cell_type": "code",
   "execution_count": 11,
   "id": "2321bd3e",
   "metadata": {},
   "outputs": [
    {
     "name": "stdout",
     "output_type": "stream",
     "text": [
      "The locations of the minimum values per column of N are at\n",
      "1=[0,0]\n",
      "2=[0,1]\n",
      "3=[0,2]\n",
      "4=[0,3]\n"
     ]
    }
   ],
   "source": [
    "# returns an array of index where the minimum values are at the N matrix\n",
    "result = np.where(N == min_val)\n",
    "\n",
    "print(\"The locations of the minimum values per column of N are at\")\n",
    "\n",
    "# iterate on the row and col location of where the minimum values per column are at\n",
    "# prints the minimum value=[row, col] location \n",
    "for row, col in zip(result[0], result[1]):\n",
    "    print(\"{}=[{},{}]\".format(N[row][col],row, col))"
   ]
  },
  {
   "cell_type": "markdown",
   "id": "177aa1e5",
   "metadata": {},
   "source": [
    "### 6) Getting the average of the whole matrix of N\n",
    "- We can get the average by using the __mean()__ function"
   ]
  },
  {
   "cell_type": "code",
   "execution_count": 12,
   "id": "cc8b30b3",
   "metadata": {},
   "outputs": [
    {
     "name": "stdout",
     "output_type": "stream",
     "text": [
      "Average of whole matrix of N = 8.5\n"
     ]
    }
   ],
   "source": [
    "print(\"Average of whole matrix of N = {}\".format(N.mean()))"
   ]
  },
  {
   "cell_type": "markdown",
   "id": "93c86b25",
   "metadata": {},
   "source": [
    "### 7) Creating vector V with 4 elements\n",
    "- To prepopulate the elements of the vector, we will use __np.ones(shape, dtype)__ function where:\n",
    "    - shape represents the array\n",
    "    - dtype is the data type"
   ]
  },
  {
   "cell_type": "code",
   "execution_count": 13,
   "id": "2be37e75",
   "metadata": {},
   "outputs": [
    {
     "name": "stdout",
     "output_type": "stream",
     "text": [
      "Vector V = [1 1 1 1]\n"
     ]
    }
   ],
   "source": [
    "# create vector with 4 elements of type int\n",
    "V = np.ones(4, dtype=int)\n",
    "print(\"Vector V = {}\".format(V))"
   ]
  },
  {
   "cell_type": "markdown",
   "id": "c55baca6",
   "metadata": {},
   "source": [
    "### 8) Dot product of N and V"
   ]
  },
  {
   "cell_type": "code",
   "execution_count": 14,
   "id": "d43ebc33",
   "metadata": {},
   "outputs": [
    {
     "name": "stdout",
     "output_type": "stream",
     "text": [
      "The dot product of N and V = [10 26 42 58]\n"
     ]
    }
   ],
   "source": [
    "# Shape of matrix N is (4,4) while vector V is (4,) which means we could execute the dot product\n",
    "print(\"The dot product of N and V = {}\".format(np.dot(N,V)))"
   ]
  }
 ],
 "metadata": {
  "kernelspec": {
   "display_name": "Python 3 (ipykernel)",
   "language": "python",
   "name": "python3"
  },
  "language_info": {
   "codemirror_mode": {
    "name": "ipython",
    "version": 3
   },
   "file_extension": ".py",
   "mimetype": "text/x-python",
   "name": "python",
   "nbconvert_exporter": "python",
   "pygments_lexer": "ipython3",
   "version": "3.9.12"
  }
 },
 "nbformat": 4,
 "nbformat_minor": 5
}
