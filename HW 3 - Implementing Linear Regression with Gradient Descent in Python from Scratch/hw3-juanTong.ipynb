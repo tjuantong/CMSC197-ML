{
 "cells": [
  {
   "cell_type": "markdown",
   "id": "ff2be192",
   "metadata": {},
   "source": [
    "# HW 3\n",
    "Submitted by: Trixelle Johanna Juan Tong"
   ]
  },
  {
   "cell_type": "markdown",
   "id": "4c450127",
   "metadata": {},
   "source": [
    "*Quick Navigation*\n",
    "\n",
    "Solutions for the [Questions](#questions)"
   ]
  },
  {
   "cell_type": "code",
   "execution_count": 1,
   "id": "679e29e5",
   "metadata": {},
   "outputs": [],
   "source": [
    "# import packages\n",
    "import numpy as np\n",
    "import pandas as pd\n",
    "import seaborn as sns\n",
    "import matplotlib.pyplot as plt\n",
    "\n",
    "%matplotlib inline\n",
    "\n",
    "# for preprocessing\n",
    "from sklearn.model_selection import train_test_split\n",
    "from sklearn.preprocessing import scale\n",
    "\n",
    "# for model validation\n",
    "from sklearn.linear_model import LinearRegression\n",
    "from sklearn.metrics import r2_score, mean_squared_error"
   ]
  },
  {
   "cell_type": "markdown",
   "id": "d329b017",
   "metadata": {},
   "source": [
    "## Load advertising dataset"
   ]
  },
  {
   "cell_type": "code",
   "execution_count": 2,
   "id": "7ed2da85",
   "metadata": {},
   "outputs": [
    {
     "data": {
      "text/html": [
       "<div>\n",
       "<style scoped>\n",
       "    .dataframe tbody tr th:only-of-type {\n",
       "        vertical-align: middle;\n",
       "    }\n",
       "\n",
       "    .dataframe tbody tr th {\n",
       "        vertical-align: top;\n",
       "    }\n",
       "\n",
       "    .dataframe thead th {\n",
       "        text-align: right;\n",
       "    }\n",
       "</style>\n",
       "<table border=\"1\" class=\"dataframe\">\n",
       "  <thead>\n",
       "    <tr style=\"text-align: right;\">\n",
       "      <th></th>\n",
       "      <th>TV</th>\n",
       "      <th>Radio</th>\n",
       "      <th>Newspaper</th>\n",
       "      <th>Sales</th>\n",
       "    </tr>\n",
       "  </thead>\n",
       "  <tbody>\n",
       "    <tr>\n",
       "      <th>1</th>\n",
       "      <td>230.1</td>\n",
       "      <td>37.8</td>\n",
       "      <td>69.2</td>\n",
       "      <td>22.1</td>\n",
       "    </tr>\n",
       "    <tr>\n",
       "      <th>2</th>\n",
       "      <td>44.5</td>\n",
       "      <td>39.3</td>\n",
       "      <td>45.1</td>\n",
       "      <td>10.4</td>\n",
       "    </tr>\n",
       "    <tr>\n",
       "      <th>3</th>\n",
       "      <td>17.2</td>\n",
       "      <td>45.9</td>\n",
       "      <td>69.3</td>\n",
       "      <td>9.3</td>\n",
       "    </tr>\n",
       "    <tr>\n",
       "      <th>4</th>\n",
       "      <td>151.5</td>\n",
       "      <td>41.3</td>\n",
       "      <td>58.5</td>\n",
       "      <td>18.5</td>\n",
       "    </tr>\n",
       "    <tr>\n",
       "      <th>5</th>\n",
       "      <td>180.8</td>\n",
       "      <td>10.8</td>\n",
       "      <td>58.4</td>\n",
       "      <td>12.9</td>\n",
       "    </tr>\n",
       "    <tr>\n",
       "      <th>...</th>\n",
       "      <td>...</td>\n",
       "      <td>...</td>\n",
       "      <td>...</td>\n",
       "      <td>...</td>\n",
       "    </tr>\n",
       "    <tr>\n",
       "      <th>196</th>\n",
       "      <td>38.2</td>\n",
       "      <td>3.7</td>\n",
       "      <td>13.8</td>\n",
       "      <td>7.6</td>\n",
       "    </tr>\n",
       "    <tr>\n",
       "      <th>197</th>\n",
       "      <td>94.2</td>\n",
       "      <td>4.9</td>\n",
       "      <td>8.1</td>\n",
       "      <td>9.7</td>\n",
       "    </tr>\n",
       "    <tr>\n",
       "      <th>198</th>\n",
       "      <td>177.0</td>\n",
       "      <td>9.3</td>\n",
       "      <td>6.4</td>\n",
       "      <td>12.8</td>\n",
       "    </tr>\n",
       "    <tr>\n",
       "      <th>199</th>\n",
       "      <td>283.6</td>\n",
       "      <td>42.0</td>\n",
       "      <td>66.2</td>\n",
       "      <td>25.5</td>\n",
       "    </tr>\n",
       "    <tr>\n",
       "      <th>200</th>\n",
       "      <td>232.1</td>\n",
       "      <td>8.6</td>\n",
       "      <td>8.7</td>\n",
       "      <td>13.4</td>\n",
       "    </tr>\n",
       "  </tbody>\n",
       "</table>\n",
       "<p>200 rows × 4 columns</p>\n",
       "</div>"
      ],
      "text/plain": [
       "        TV  Radio  Newspaper  Sales\n",
       "1    230.1   37.8       69.2   22.1\n",
       "2     44.5   39.3       45.1   10.4\n",
       "3     17.2   45.9       69.3    9.3\n",
       "4    151.5   41.3       58.5   18.5\n",
       "5    180.8   10.8       58.4   12.9\n",
       "..     ...    ...        ...    ...\n",
       "196   38.2    3.7       13.8    7.6\n",
       "197   94.2    4.9        8.1    9.7\n",
       "198  177.0    9.3        6.4   12.8\n",
       "199  283.6   42.0       66.2   25.5\n",
       "200  232.1    8.6        8.7   13.4\n",
       "\n",
       "[200 rows x 4 columns]"
      ]
     },
     "execution_count": 2,
     "metadata": {},
     "output_type": "execute_result"
    }
   ],
   "source": [
    "# loading the dataset using pandas read_csv() function\n",
    "advertising_df = pd.read_csv(\"Advertising.csv\", index_col=0)\n",
    "advertising_df"
   ]
  },
  {
   "cell_type": "markdown",
   "id": "2b533bb7",
   "metadata": {},
   "source": [
    "## Standardize each column of the dataset"
   ]
  },
  {
   "cell_type": "code",
   "execution_count": 3,
   "id": "4d424de7",
   "metadata": {},
   "outputs": [
    {
     "data": {
      "text/html": [
       "<div>\n",
       "<style scoped>\n",
       "    .dataframe tbody tr th:only-of-type {\n",
       "        vertical-align: middle;\n",
       "    }\n",
       "\n",
       "    .dataframe tbody tr th {\n",
       "        vertical-align: top;\n",
       "    }\n",
       "\n",
       "    .dataframe thead th {\n",
       "        text-align: right;\n",
       "    }\n",
       "</style>\n",
       "<table border=\"1\" class=\"dataframe\">\n",
       "  <thead>\n",
       "    <tr style=\"text-align: right;\">\n",
       "      <th></th>\n",
       "      <th>TV</th>\n",
       "      <th>Radio</th>\n",
       "      <th>Newspaper</th>\n",
       "      <th>Sales</th>\n",
       "    </tr>\n",
       "  </thead>\n",
       "  <tbody>\n",
       "    <tr>\n",
       "      <th>0</th>\n",
       "      <td>0.969852</td>\n",
       "      <td>0.981522</td>\n",
       "      <td>1.778945</td>\n",
       "      <td>1.552053</td>\n",
       "    </tr>\n",
       "    <tr>\n",
       "      <th>1</th>\n",
       "      <td>-1.197376</td>\n",
       "      <td>1.082808</td>\n",
       "      <td>0.669579</td>\n",
       "      <td>-0.696046</td>\n",
       "    </tr>\n",
       "    <tr>\n",
       "      <th>2</th>\n",
       "      <td>-1.516155</td>\n",
       "      <td>1.528463</td>\n",
       "      <td>1.783549</td>\n",
       "      <td>-0.907406</td>\n",
       "    </tr>\n",
       "    <tr>\n",
       "      <th>3</th>\n",
       "      <td>0.052050</td>\n",
       "      <td>1.217855</td>\n",
       "      <td>1.286405</td>\n",
       "      <td>0.860330</td>\n",
       "    </tr>\n",
       "    <tr>\n",
       "      <th>4</th>\n",
       "      <td>0.394182</td>\n",
       "      <td>-0.841614</td>\n",
       "      <td>1.281802</td>\n",
       "      <td>-0.215683</td>\n",
       "    </tr>\n",
       "    <tr>\n",
       "      <th>...</th>\n",
       "      <td>...</td>\n",
       "      <td>...</td>\n",
       "      <td>...</td>\n",
       "      <td>...</td>\n",
       "    </tr>\n",
       "    <tr>\n",
       "      <th>195</th>\n",
       "      <td>-1.270941</td>\n",
       "      <td>-1.321031</td>\n",
       "      <td>-0.771217</td>\n",
       "      <td>-1.234053</td>\n",
       "    </tr>\n",
       "    <tr>\n",
       "      <th>196</th>\n",
       "      <td>-0.617035</td>\n",
       "      <td>-1.240003</td>\n",
       "      <td>-1.033598</td>\n",
       "      <td>-0.830548</td>\n",
       "    </tr>\n",
       "    <tr>\n",
       "      <th>197</th>\n",
       "      <td>0.349810</td>\n",
       "      <td>-0.942899</td>\n",
       "      <td>-1.111852</td>\n",
       "      <td>-0.234898</td>\n",
       "    </tr>\n",
       "    <tr>\n",
       "      <th>198</th>\n",
       "      <td>1.594565</td>\n",
       "      <td>1.265121</td>\n",
       "      <td>1.640850</td>\n",
       "      <td>2.205347</td>\n",
       "    </tr>\n",
       "    <tr>\n",
       "      <th>199</th>\n",
       "      <td>0.993206</td>\n",
       "      <td>-0.990165</td>\n",
       "      <td>-1.005979</td>\n",
       "      <td>-0.119610</td>\n",
       "    </tr>\n",
       "  </tbody>\n",
       "</table>\n",
       "<p>200 rows × 4 columns</p>\n",
       "</div>"
      ],
      "text/plain": [
       "           TV     Radio  Newspaper     Sales\n",
       "0    0.969852  0.981522   1.778945  1.552053\n",
       "1   -1.197376  1.082808   0.669579 -0.696046\n",
       "2   -1.516155  1.528463   1.783549 -0.907406\n",
       "3    0.052050  1.217855   1.286405  0.860330\n",
       "4    0.394182 -0.841614   1.281802 -0.215683\n",
       "..        ...       ...        ...       ...\n",
       "195 -1.270941 -1.321031  -0.771217 -1.234053\n",
       "196 -0.617035 -1.240003  -1.033598 -0.830548\n",
       "197  0.349810 -0.942899  -1.111852 -0.234898\n",
       "198  1.594565  1.265121   1.640850  2.205347\n",
       "199  0.993206 -0.990165  -1.005979 -0.119610\n",
       "\n",
       "[200 rows x 4 columns]"
      ]
     },
     "execution_count": 3,
     "metadata": {},
     "output_type": "execute_result"
    }
   ],
   "source": [
    "# used scale() method of sklearn.preprocessing\n",
    "standardized_df = scale(advertising_df)\n",
    "\n",
    "# transform into a dataframe\n",
    "standardized_df = pd.DataFrame(standardized_df, columns=advertising_df.columns)\n",
    "standardized_df"
   ]
  },
  {
   "cell_type": "markdown",
   "id": "14d11ca2",
   "metadata": {},
   "source": [
    "## Adding an extra column composing of 1s to X"
   ]
  },
  {
   "cell_type": "code",
   "execution_count": 4,
   "id": "4c25ce0d",
   "metadata": {},
   "outputs": [
    {
     "data": {
      "text/html": [
       "<div>\n",
       "<style scoped>\n",
       "    .dataframe tbody tr th:only-of-type {\n",
       "        vertical-align: middle;\n",
       "    }\n",
       "\n",
       "    .dataframe tbody tr th {\n",
       "        vertical-align: top;\n",
       "    }\n",
       "\n",
       "    .dataframe thead th {\n",
       "        text-align: right;\n",
       "    }\n",
       "</style>\n",
       "<table border=\"1\" class=\"dataframe\">\n",
       "  <thead>\n",
       "    <tr style=\"text-align: right;\">\n",
       "      <th></th>\n",
       "      <th>bias</th>\n",
       "      <th>TV</th>\n",
       "      <th>Radio</th>\n",
       "      <th>Newspaper</th>\n",
       "      <th>Sales</th>\n",
       "    </tr>\n",
       "  </thead>\n",
       "  <tbody>\n",
       "    <tr>\n",
       "      <th>0</th>\n",
       "      <td>1</td>\n",
       "      <td>0.969852</td>\n",
       "      <td>0.981522</td>\n",
       "      <td>1.778945</td>\n",
       "      <td>1.552053</td>\n",
       "    </tr>\n",
       "    <tr>\n",
       "      <th>1</th>\n",
       "      <td>1</td>\n",
       "      <td>-1.197376</td>\n",
       "      <td>1.082808</td>\n",
       "      <td>0.669579</td>\n",
       "      <td>-0.696046</td>\n",
       "    </tr>\n",
       "    <tr>\n",
       "      <th>2</th>\n",
       "      <td>1</td>\n",
       "      <td>-1.516155</td>\n",
       "      <td>1.528463</td>\n",
       "      <td>1.783549</td>\n",
       "      <td>-0.907406</td>\n",
       "    </tr>\n",
       "    <tr>\n",
       "      <th>3</th>\n",
       "      <td>1</td>\n",
       "      <td>0.052050</td>\n",
       "      <td>1.217855</td>\n",
       "      <td>1.286405</td>\n",
       "      <td>0.860330</td>\n",
       "    </tr>\n",
       "    <tr>\n",
       "      <th>4</th>\n",
       "      <td>1</td>\n",
       "      <td>0.394182</td>\n",
       "      <td>-0.841614</td>\n",
       "      <td>1.281802</td>\n",
       "      <td>-0.215683</td>\n",
       "    </tr>\n",
       "    <tr>\n",
       "      <th>...</th>\n",
       "      <td>...</td>\n",
       "      <td>...</td>\n",
       "      <td>...</td>\n",
       "      <td>...</td>\n",
       "      <td>...</td>\n",
       "    </tr>\n",
       "    <tr>\n",
       "      <th>195</th>\n",
       "      <td>1</td>\n",
       "      <td>-1.270941</td>\n",
       "      <td>-1.321031</td>\n",
       "      <td>-0.771217</td>\n",
       "      <td>-1.234053</td>\n",
       "    </tr>\n",
       "    <tr>\n",
       "      <th>196</th>\n",
       "      <td>1</td>\n",
       "      <td>-0.617035</td>\n",
       "      <td>-1.240003</td>\n",
       "      <td>-1.033598</td>\n",
       "      <td>-0.830548</td>\n",
       "    </tr>\n",
       "    <tr>\n",
       "      <th>197</th>\n",
       "      <td>1</td>\n",
       "      <td>0.349810</td>\n",
       "      <td>-0.942899</td>\n",
       "      <td>-1.111852</td>\n",
       "      <td>-0.234898</td>\n",
       "    </tr>\n",
       "    <tr>\n",
       "      <th>198</th>\n",
       "      <td>1</td>\n",
       "      <td>1.594565</td>\n",
       "      <td>1.265121</td>\n",
       "      <td>1.640850</td>\n",
       "      <td>2.205347</td>\n",
       "    </tr>\n",
       "    <tr>\n",
       "      <th>199</th>\n",
       "      <td>1</td>\n",
       "      <td>0.993206</td>\n",
       "      <td>-0.990165</td>\n",
       "      <td>-1.005979</td>\n",
       "      <td>-0.119610</td>\n",
       "    </tr>\n",
       "  </tbody>\n",
       "</table>\n",
       "<p>200 rows × 5 columns</p>\n",
       "</div>"
      ],
      "text/plain": [
       "     bias        TV     Radio  Newspaper     Sales\n",
       "0       1  0.969852  0.981522   1.778945  1.552053\n",
       "1       1 -1.197376  1.082808   0.669579 -0.696046\n",
       "2       1 -1.516155  1.528463   1.783549 -0.907406\n",
       "3       1  0.052050  1.217855   1.286405  0.860330\n",
       "4       1  0.394182 -0.841614   1.281802 -0.215683\n",
       "..    ...       ...       ...        ...       ...\n",
       "195     1 -1.270941 -1.321031  -0.771217 -1.234053\n",
       "196     1 -0.617035 -1.240003  -1.033598 -0.830548\n",
       "197     1  0.349810 -0.942899  -1.111852 -0.234898\n",
       "198     1  1.594565  1.265121   1.640850  2.205347\n",
       "199     1  0.993206 -0.990165  -1.005979 -0.119610\n",
       "\n",
       "[200 rows x 5 columns]"
      ]
     },
     "execution_count": 4,
     "metadata": {},
     "output_type": "execute_result"
    }
   ],
   "source": [
    "# adds a column with values of 1 in the dataframe\n",
    "# this will be used for the bias term\n",
    "standardized_df.insert(0, 'bias', 1)\n",
    "standardized_df"
   ]
  },
  {
   "cell_type": "code",
   "execution_count": 5,
   "id": "aab78b72",
   "metadata": {},
   "outputs": [],
   "source": [
    "# store response variable to y\n",
    "y = standardized_df[\"Sales\"]\n",
    "\n",
    "# store all predictor values to x \n",
    "x = standardized_df.drop(\"Sales\", axis=1)"
   ]
  },
  {
   "cell_type": "markdown",
   "id": "c1ff964b",
   "metadata": {},
   "source": [
    "## Divide the dataset into training and testing\n",
    "We will divide it with the ratio 85:15"
   ]
  },
  {
   "cell_type": "code",
   "execution_count": 6,
   "id": "e091bd01",
   "metadata": {},
   "outputs": [
    {
     "name": "stdout",
     "output_type": "stream",
     "text": [
      "x_train size: (170, 4)\n",
      "y_train size: (170,)\n",
      "\n",
      "x_test size: (30, 4)\n",
      "y_test size: (30,)\n"
     ]
    }
   ],
   "source": [
    "# Training and testing dataset split with ratio 85:15\n",
    "x_train, x_test, y_train, y_test = train_test_split(x, y, train_size=0.85, test_size=0.15)\n",
    "\n",
    "print(\"x_train size:\", x_train.shape)\n",
    "print(\"y_train size:\", y_train.shape)\n",
    "print(\"\\nx_test size:\", x_test.shape)\n",
    "print(\"y_test size:\", y_test.shape)"
   ]
  },
  {
   "cell_type": "markdown",
   "id": "7cdbe0b4",
   "metadata": {},
   "source": [
    "## Fitting the model on the training set\n",
    "\n",
    "The functions included in this section are:\n",
    "1. initialize_weights\n",
    "2. predict\n",
    "3. compute_cost\n",
    "4. compute_gradient\n",
    "5. update_weights\n",
    "6. grad_descent\n",
    "7. plot_costs"
   ]
  },
  {
   "cell_type": "code",
   "execution_count": 7,
   "id": "6f1337ab",
   "metadata": {},
   "outputs": [],
   "source": [
    "def initialize_weights():\n",
    "    np.random.seed(10)  # will store the same random numbers\n",
    "    init_w = np.random.uniform(0,1,4)  # randomize 4 numbers between 0 and 1\n",
    "    return init_w"
   ]
  },
  {
   "cell_type": "code",
   "execution_count": 8,
   "id": "4e3c28ba",
   "metadata": {},
   "outputs": [
    {
     "name": "stdout",
     "output_type": "stream",
     "text": [
      "bias: 0.771320643266746\n",
      "theta: [0.02075195 0.63364823 0.74880388]\n"
     ]
    }
   ],
   "source": [
    "# see the values for bias and theta\n",
    "weights = initialize_weights()\n",
    "\n",
    "bias = weights[0]\n",
    "theta = weights[1:]\n",
    "\n",
    "print(\"bias: \" + str(weights[0]))\n",
    "print(\"theta: \" + str(weights[1:]))"
   ]
  },
  {
   "cell_type": "code",
   "execution_count": 9,
   "id": "9213567d",
   "metadata": {},
   "outputs": [],
   "source": [
    "# function to calculate the predicted values of y_hat\n",
    "def predict(x, theta):\n",
    "    y_hat = np.dot(x, theta)\n",
    "    return y_hat"
   ]
  },
  {
   "cell_type": "code",
   "execution_count": 10,
   "id": "fda21a4c",
   "metadata": {},
   "outputs": [],
   "source": [
    "# function to calculate the cost of the predicted - actual y values\n",
    "def compute_cost(y_hat, y, theta):\n",
    "    m = len(y)  # number of samples\n",
    "    \n",
    "    # get the cost function\n",
    "    # y_hat is the predicted value whereas y is the actual value\n",
    "    cost = 1/(m*2) * np.sum(np.square(y_hat - y))\n",
    "    return cost"
   ]
  },
  {
   "cell_type": "code",
   "execution_count": 11,
   "id": "dec4b7e7",
   "metadata": {},
   "outputs": [],
   "source": [
    "def compute_gradient(x, y, theta):\n",
    "    m = len(y)\n",
    "    y_hat = predict(x, theta)\n",
    "    w = 1/m * np.dot((y_hat - y), x)\n",
    "    \n",
    "    return w"
   ]
  },
  {
   "cell_type": "code",
   "execution_count": 12,
   "id": "5425d4a0",
   "metadata": {},
   "outputs": [],
   "source": [
    "def update_weights(w, theta, a):\n",
    "    updated_weights = theta - a * w \n",
    "    return updated_weights"
   ]
  },
  {
   "cell_type": "code",
   "execution_count": 13,
   "id": "769adcfb",
   "metadata": {},
   "outputs": [],
   "source": [
    "def grad_descent(x, y, theta, iterations, a):\n",
    "    costs = []\n",
    "\n",
    "    for i in range(iterations):\n",
    "        # predict y\n",
    "        y_hat = predict(x, theta) \n",
    "        \n",
    "        # compute the cost\n",
    "        cost = compute_cost(y_hat, y, weights)\n",
    "        costs.append(cost) # add to cost list\n",
    "        \n",
    "        # compute the partial derivatives\n",
    "        w = compute_gradient(x, y, theta)\n",
    "        \n",
    "        # update the weights\n",
    "        theta = update_weights(w, theta, a)\n",
    "        \n",
    "    return theta, costs"
   ]
  },
  {
   "cell_type": "code",
   "execution_count": 14,
   "id": "f175b4d1",
   "metadata": {},
   "outputs": [],
   "source": [
    "# function to plot the cost over the iteration\n",
    "def plot_costs(cost):\n",
    "    plt.plot(cost)\n",
    "    \n",
    "    # set appropriate labels for the graph\n",
    "    plt.title('Cost on Iteration')\n",
    "    plt.xlabel('Iterations')\n",
    "    plt.ylabel('Cost')\n",
    "    plt.show()"
   ]
  },
  {
   "cell_type": "markdown",
   "id": "6972c797",
   "metadata": {},
   "source": [
    "#### Predict Y for train set and calculate the cost"
   ]
  },
  {
   "cell_type": "code",
   "execution_count": 15,
   "id": "b9158d46",
   "metadata": {},
   "outputs": [
    {
     "data": {
      "text/html": [
       "<div>\n",
       "<style scoped>\n",
       "    .dataframe tbody tr th:only-of-type {\n",
       "        vertical-align: middle;\n",
       "    }\n",
       "\n",
       "    .dataframe tbody tr th {\n",
       "        vertical-align: top;\n",
       "    }\n",
       "\n",
       "    .dataframe thead th {\n",
       "        text-align: right;\n",
       "    }\n",
       "</style>\n",
       "<table border=\"1\" class=\"dataframe\">\n",
       "  <thead>\n",
       "    <tr style=\"text-align: right;\">\n",
       "      <th></th>\n",
       "      <th>Predicted y_train</th>\n",
       "      <th>Actual y_train</th>\n",
       "    </tr>\n",
       "  </thead>\n",
       "  <tbody>\n",
       "    <tr>\n",
       "      <th>35</th>\n",
       "      <td>-0.773998</td>\n",
       "      <td>-0.234898</td>\n",
       "    </tr>\n",
       "    <tr>\n",
       "      <th>112</th>\n",
       "      <td>-0.528640</td>\n",
       "      <td>0.014891</td>\n",
       "    </tr>\n",
       "    <tr>\n",
       "      <th>36</th>\n",
       "      <td>0.798206</td>\n",
       "      <td>2.186132</td>\n",
       "    </tr>\n",
       "    <tr>\n",
       "      <th>51</th>\n",
       "      <td>-0.753684</td>\n",
       "      <td>-0.638403</td>\n",
       "    </tr>\n",
       "    <tr>\n",
       "      <th>173</th>\n",
       "      <td>-0.527059</td>\n",
       "      <td>-0.446257</td>\n",
       "    </tr>\n",
       "    <tr>\n",
       "      <th>...</th>\n",
       "      <td>...</td>\n",
       "      <td>...</td>\n",
       "    </tr>\n",
       "    <tr>\n",
       "      <th>144</th>\n",
       "      <td>0.684535</td>\n",
       "      <td>-0.503901</td>\n",
       "    </tr>\n",
       "    <tr>\n",
       "      <th>63</th>\n",
       "      <td>0.268047</td>\n",
       "      <td>-0.004323</td>\n",
       "    </tr>\n",
       "    <tr>\n",
       "      <th>127</th>\n",
       "      <td>-0.976301</td>\n",
       "      <td>-1.003478</td>\n",
       "    </tr>\n",
       "    <tr>\n",
       "      <th>191</th>\n",
       "      <td>-0.625649</td>\n",
       "      <td>-0.792119</td>\n",
       "    </tr>\n",
       "    <tr>\n",
       "      <th>72</th>\n",
       "      <td>0.770838</td>\n",
       "      <td>-1.003478</td>\n",
       "    </tr>\n",
       "  </tbody>\n",
       "</table>\n",
       "<p>170 rows × 2 columns</p>\n",
       "</div>"
      ],
      "text/plain": [
       "     Predicted y_train  Actual y_train\n",
       "35           -0.773998       -0.234898\n",
       "112          -0.528640        0.014891\n",
       "36            0.798206        2.186132\n",
       "51           -0.753684       -0.638403\n",
       "173          -0.527059       -0.446257\n",
       "..                 ...             ...\n",
       "144           0.684535       -0.503901\n",
       "63            0.268047       -0.004323\n",
       "127          -0.976301       -1.003478\n",
       "191          -0.625649       -0.792119\n",
       "72            0.770838       -1.003478\n",
       "\n",
       "[170 rows x 2 columns]"
      ]
     },
     "metadata": {},
     "output_type": "display_data"
    },
    {
     "name": "stdout",
     "output_type": "stream",
     "text": [
      "Cost: 0.9280926097983375\n"
     ]
    }
   ],
   "source": [
    "# we will predict Y of the train set\n",
    "y_hat_train = predict(x_train, weights)\n",
    "\n",
    "# we will compare it the predicted values to the actual values\n",
    "y_train_df = pd.DataFrame({'Predicted y_train': y_hat_train ,'Actual y_train': y_train})\n",
    "display(y_train_df)\n",
    "\n",
    "# calculate the cost\n",
    "y_train_cost = compute_cost(y_hat_train, y_train, weights)\n",
    "print(\"Cost: {}\".format(y_train_cost))"
   ]
  },
  {
   "cell_type": "markdown",
   "id": "1b12c348",
   "metadata": {},
   "source": [
    "#### Predict Y for test set and calculate the cost"
   ]
  },
  {
   "cell_type": "code",
   "execution_count": 16,
   "id": "8618fb23",
   "metadata": {},
   "outputs": [
    {
     "data": {
      "text/html": [
       "<div>\n",
       "<style scoped>\n",
       "    .dataframe tbody tr th:only-of-type {\n",
       "        vertical-align: middle;\n",
       "    }\n",
       "\n",
       "    .dataframe tbody tr th {\n",
       "        vertical-align: top;\n",
       "    }\n",
       "\n",
       "    .dataframe thead th {\n",
       "        text-align: right;\n",
       "    }\n",
       "</style>\n",
       "<table border=\"1\" class=\"dataframe\">\n",
       "  <thead>\n",
       "    <tr style=\"text-align: right;\">\n",
       "      <th></th>\n",
       "      <th>Predicted y_train</th>\n",
       "      <th>Actual y_train</th>\n",
       "    </tr>\n",
       "  </thead>\n",
       "  <tbody>\n",
       "    <tr>\n",
       "      <th>35</th>\n",
       "      <td>-0.773998</td>\n",
       "      <td>-0.234898</td>\n",
       "    </tr>\n",
       "    <tr>\n",
       "      <th>112</th>\n",
       "      <td>-0.528640</td>\n",
       "      <td>0.014891</td>\n",
       "    </tr>\n",
       "    <tr>\n",
       "      <th>36</th>\n",
       "      <td>0.798206</td>\n",
       "      <td>2.186132</td>\n",
       "    </tr>\n",
       "    <tr>\n",
       "      <th>51</th>\n",
       "      <td>-0.753684</td>\n",
       "      <td>-0.638403</td>\n",
       "    </tr>\n",
       "    <tr>\n",
       "      <th>173</th>\n",
       "      <td>-0.527059</td>\n",
       "      <td>-0.446257</td>\n",
       "    </tr>\n",
       "    <tr>\n",
       "      <th>...</th>\n",
       "      <td>...</td>\n",
       "      <td>...</td>\n",
       "    </tr>\n",
       "    <tr>\n",
       "      <th>144</th>\n",
       "      <td>0.684535</td>\n",
       "      <td>-0.503901</td>\n",
       "    </tr>\n",
       "    <tr>\n",
       "      <th>63</th>\n",
       "      <td>0.268047</td>\n",
       "      <td>-0.004323</td>\n",
       "    </tr>\n",
       "    <tr>\n",
       "      <th>127</th>\n",
       "      <td>-0.976301</td>\n",
       "      <td>-1.003478</td>\n",
       "    </tr>\n",
       "    <tr>\n",
       "      <th>191</th>\n",
       "      <td>-0.625649</td>\n",
       "      <td>-0.792119</td>\n",
       "    </tr>\n",
       "    <tr>\n",
       "      <th>72</th>\n",
       "      <td>0.770838</td>\n",
       "      <td>-1.003478</td>\n",
       "    </tr>\n",
       "  </tbody>\n",
       "</table>\n",
       "<p>170 rows × 2 columns</p>\n",
       "</div>"
      ],
      "text/plain": [
       "     Predicted y_train  Actual y_train\n",
       "35           -0.773998       -0.234898\n",
       "112          -0.528640        0.014891\n",
       "36            0.798206        2.186132\n",
       "51           -0.753684       -0.638403\n",
       "173          -0.527059       -0.446257\n",
       "..                 ...             ...\n",
       "144           0.684535       -0.503901\n",
       "63            0.268047       -0.004323\n",
       "127          -0.976301       -1.003478\n",
       "191          -0.625649       -0.792119\n",
       "72            0.770838       -1.003478\n",
       "\n",
       "[170 rows x 2 columns]"
      ]
     },
     "metadata": {},
     "output_type": "display_data"
    },
    {
     "name": "stdout",
     "output_type": "stream",
     "text": [
      "Cost: 0.7148149186887327\n"
     ]
    }
   ],
   "source": [
    "# we will predict Y of the train set\n",
    "y_hat_test = predict(x_test, weights)\n",
    "\n",
    "# we will compare it the predicted values to the actual values\n",
    "y_test_df = pd.DataFrame({'Predicted y_test': y_hat_test ,'Actual y_test': y_test})\n",
    "display(y_train_df)\n",
    "\n",
    "# calculate the cost\n",
    "y_test_cost = compute_cost(y_hat_test, y_test, weights)\n",
    "print(\"Cost: {}\".format(y_test_cost))"
   ]
  },
  {
   "cell_type": "markdown",
   "id": "9af5458d",
   "metadata": {},
   "source": [
    "## Predicting the quantitative response y on the train set and evaluating its performance"
   ]
  },
  {
   "cell_type": "code",
   "execution_count": 17,
   "id": "369f1c61",
   "metadata": {},
   "outputs": [
    {
     "data": {
      "text/html": [
       "<div>\n",
       "<style scoped>\n",
       "    .dataframe tbody tr th:only-of-type {\n",
       "        vertical-align: middle;\n",
       "    }\n",
       "\n",
       "    .dataframe tbody tr th {\n",
       "        vertical-align: top;\n",
       "    }\n",
       "\n",
       "    .dataframe thead th {\n",
       "        text-align: right;\n",
       "    }\n",
       "</style>\n",
       "<table border=\"1\" class=\"dataframe\">\n",
       "  <thead>\n",
       "    <tr style=\"text-align: right;\">\n",
       "      <th></th>\n",
       "      <th>Predicted y_train</th>\n",
       "      <th>Actual y_train</th>\n",
       "    </tr>\n",
       "  </thead>\n",
       "  <tbody>\n",
       "    <tr>\n",
       "      <th>35</th>\n",
       "      <td>0.564296</td>\n",
       "      <td>-0.234898</td>\n",
       "    </tr>\n",
       "    <tr>\n",
       "      <th>112</th>\n",
       "      <td>-0.034816</td>\n",
       "      <td>0.014891</td>\n",
       "    </tr>\n",
       "    <tr>\n",
       "      <th>36</th>\n",
       "      <td>1.804728</td>\n",
       "      <td>2.186132</td>\n",
       "    </tr>\n",
       "    <tr>\n",
       "      <th>51</th>\n",
       "      <td>-0.909825</td>\n",
       "      <td>-0.638403</td>\n",
       "    </tr>\n",
       "    <tr>\n",
       "      <th>173</th>\n",
       "      <td>-0.403778</td>\n",
       "      <td>-0.446257</td>\n",
       "    </tr>\n",
       "    <tr>\n",
       "      <th>...</th>\n",
       "      <td>...</td>\n",
       "      <td>...</td>\n",
       "    </tr>\n",
       "    <tr>\n",
       "      <th>144</th>\n",
       "      <td>-0.762547</td>\n",
       "      <td>-0.503901</td>\n",
       "    </tr>\n",
       "    <tr>\n",
       "      <th>63</th>\n",
       "      <td>-0.160130</td>\n",
       "      <td>-0.004323</td>\n",
       "    </tr>\n",
       "    <tr>\n",
       "      <th>127</th>\n",
       "      <td>-1.439082</td>\n",
       "      <td>-1.003478</td>\n",
       "    </tr>\n",
       "    <tr>\n",
       "      <th>191</th>\n",
       "      <td>-1.085652</td>\n",
       "      <td>-0.792119</td>\n",
       "    </tr>\n",
       "    <tr>\n",
       "      <th>72</th>\n",
       "      <td>-0.706066</td>\n",
       "      <td>-1.003478</td>\n",
       "    </tr>\n",
       "  </tbody>\n",
       "</table>\n",
       "<p>170 rows × 2 columns</p>\n",
       "</div>"
      ],
      "text/plain": [
       "     Predicted y_train  Actual y_train\n",
       "35            0.564296       -0.234898\n",
       "112          -0.034816        0.014891\n",
       "36            1.804728        2.186132\n",
       "51           -0.909825       -0.638403\n",
       "173          -0.403778       -0.446257\n",
       "..                 ...             ...\n",
       "144          -0.762547       -0.503901\n",
       "63           -0.160130       -0.004323\n",
       "127          -1.439082       -1.003478\n",
       "191          -1.085652       -0.792119\n",
       "72           -0.706066       -1.003478\n",
       "\n",
       "[170 rows x 2 columns]"
      ]
     },
     "metadata": {},
     "output_type": "display_data"
    },
    {
     "name": "stdout",
     "output_type": "stream",
     "text": [
      "MSE: 0.10985403055302703\n"
     ]
    }
   ],
   "source": [
    "w_train, cost_train = grad_descent(x_train, y_train, weights, 10000, 0.01)\n",
    "\n",
    "# we will predict y using the train set \n",
    "y_hat_train = predict(x_train, w_train)\n",
    "y_train_df = pd.DataFrame({'Predicted y_train': y_hat_train ,'Actual y_train': y_train})\n",
    "display(y_train_df)\n",
    "\n",
    "# evaluate the performance using MSE\n",
    "print(\"MSE: {}\".format(mean_squared_error(y_train, y_hat_train)))"
   ]
  },
  {
   "cell_type": "markdown",
   "id": "6dc19b41",
   "metadata": {},
   "source": [
    "For the evaluation on the quantitative response y on the train set:\n",
    "The MSE has a value of 0.10985, which we can say that the accuracy of the model towards predicting the sales is a bit good but may not be able to be that accurate in predicting the sales since using MSE enables us to check whether our estimates are close to the actual values (when MSE scores are closer to 0) or farther to the actual values (when MSE scores are higher)."
   ]
  },
  {
   "cell_type": "markdown",
   "id": "9b1d7e9d",
   "metadata": {},
   "source": [
    "## Predicting the quantitative response y on the test set and evaluating its performance"
   ]
  },
  {
   "cell_type": "code",
   "execution_count": 18,
   "id": "3e29da74",
   "metadata": {},
   "outputs": [
    {
     "data": {
      "text/html": [
       "<div>\n",
       "<style scoped>\n",
       "    .dataframe tbody tr th:only-of-type {\n",
       "        vertical-align: middle;\n",
       "    }\n",
       "\n",
       "    .dataframe tbody tr th {\n",
       "        vertical-align: top;\n",
       "    }\n",
       "\n",
       "    .dataframe thead th {\n",
       "        text-align: right;\n",
       "    }\n",
       "</style>\n",
       "<table border=\"1\" class=\"dataframe\">\n",
       "  <thead>\n",
       "    <tr style=\"text-align: right;\">\n",
       "      <th></th>\n",
       "      <th>Predicted y_test</th>\n",
       "      <th>Actual y_test</th>\n",
       "    </tr>\n",
       "  </thead>\n",
       "  <tbody>\n",
       "    <tr>\n",
       "      <th>189</th>\n",
       "      <td>-1.476997</td>\n",
       "      <td>-1.406983</td>\n",
       "    </tr>\n",
       "    <tr>\n",
       "      <th>81</th>\n",
       "      <td>0.166858</td>\n",
       "      <td>-0.330970</td>\n",
       "    </tr>\n",
       "    <tr>\n",
       "      <th>90</th>\n",
       "      <td>-0.712129</td>\n",
       "      <td>-0.542330</td>\n",
       "    </tr>\n",
       "    <tr>\n",
       "      <th>4</th>\n",
       "      <td>-0.125498</td>\n",
       "      <td>-0.215683</td>\n",
       "    </tr>\n",
       "    <tr>\n",
       "      <th>92</th>\n",
       "      <td>0.980333</td>\n",
       "      <td>1.033261</td>\n",
       "    </tr>\n",
       "    <tr>\n",
       "      <th>161</th>\n",
       "      <td>-0.085905</td>\n",
       "      <td>-0.138825</td>\n",
       "    </tr>\n",
       "    <tr>\n",
       "      <th>168</th>\n",
       "      <td>0.618759</td>\n",
       "      <td>0.591327</td>\n",
       "    </tr>\n",
       "    <tr>\n",
       "      <th>62</th>\n",
       "      <td>0.560911</td>\n",
       "      <td>0.322324</td>\n",
       "    </tr>\n",
       "    <tr>\n",
       "      <th>197</th>\n",
       "      <td>-0.186663</td>\n",
       "      <td>-0.234898</td>\n",
       "    </tr>\n",
       "    <tr>\n",
       "      <th>89</th>\n",
       "      <td>0.537883</td>\n",
       "      <td>0.514469</td>\n",
       "    </tr>\n",
       "    <tr>\n",
       "      <th>6</th>\n",
       "      <td>-0.423508</td>\n",
       "      <td>-0.427043</td>\n",
       "    </tr>\n",
       "    <tr>\n",
       "      <th>195</th>\n",
       "      <td>-1.593023</td>\n",
       "      <td>-1.234053</td>\n",
       "    </tr>\n",
       "    <tr>\n",
       "      <th>164</th>\n",
       "      <td>-0.520627</td>\n",
       "      <td>-0.407828</td>\n",
       "    </tr>\n",
       "    <tr>\n",
       "      <th>70</th>\n",
       "      <td>0.727318</td>\n",
       "      <td>0.821901</td>\n",
       "    </tr>\n",
       "    <tr>\n",
       "      <th>154</th>\n",
       "      <td>0.313867</td>\n",
       "      <td>0.303109</td>\n",
       "    </tr>\n",
       "    <tr>\n",
       "      <th>151</th>\n",
       "      <td>-0.725073</td>\n",
       "      <td>-0.465472</td>\n",
       "    </tr>\n",
       "    <tr>\n",
       "      <th>82</th>\n",
       "      <td>-0.704565</td>\n",
       "      <td>-0.523115</td>\n",
       "    </tr>\n",
       "    <tr>\n",
       "      <th>126</th>\n",
       "      <td>-0.658129</td>\n",
       "      <td>-1.426198</td>\n",
       "    </tr>\n",
       "    <tr>\n",
       "      <th>145</th>\n",
       "      <td>-0.763401</td>\n",
       "      <td>-0.715261</td>\n",
       "    </tr>\n",
       "    <tr>\n",
       "      <th>73</th>\n",
       "      <td>-0.737240</td>\n",
       "      <td>-0.580759</td>\n",
       "    </tr>\n",
       "    <tr>\n",
       "      <th>77</th>\n",
       "      <td>-0.018930</td>\n",
       "      <td>0.034106</td>\n",
       "    </tr>\n",
       "    <tr>\n",
       "      <th>19</th>\n",
       "      <td>0.053358</td>\n",
       "      <td>0.110964</td>\n",
       "    </tr>\n",
       "    <tr>\n",
       "      <th>190</th>\n",
       "      <td>-0.285379</td>\n",
       "      <td>-0.619188</td>\n",
       "    </tr>\n",
       "    <tr>\n",
       "      <th>29</th>\n",
       "      <td>-0.897936</td>\n",
       "      <td>-0.676832</td>\n",
       "    </tr>\n",
       "    <tr>\n",
       "      <th>69</th>\n",
       "      <td>1.346494</td>\n",
       "      <td>1.590482</td>\n",
       "    </tr>\n",
       "    <tr>\n",
       "      <th>80</th>\n",
       "      <td>-0.469110</td>\n",
       "      <td>-0.427043</td>\n",
       "    </tr>\n",
       "    <tr>\n",
       "      <th>28</th>\n",
       "      <td>1.046633</td>\n",
       "      <td>0.937188</td>\n",
       "    </tr>\n",
       "    <tr>\n",
       "      <th>58</th>\n",
       "      <td>1.486419</td>\n",
       "      <td>1.878700</td>\n",
       "    </tr>\n",
       "    <tr>\n",
       "      <th>122</th>\n",
       "      <td>-0.019826</td>\n",
       "      <td>-0.465472</td>\n",
       "    </tr>\n",
       "    <tr>\n",
       "      <th>101</th>\n",
       "      <td>1.743685</td>\n",
       "      <td>1.878700</td>\n",
       "    </tr>\n",
       "  </tbody>\n",
       "</table>\n",
       "</div>"
      ],
      "text/plain": [
       "     Predicted y_test  Actual y_test\n",
       "189         -1.476997      -1.406983\n",
       "81           0.166858      -0.330970\n",
       "90          -0.712129      -0.542330\n",
       "4           -0.125498      -0.215683\n",
       "92           0.980333       1.033261\n",
       "161         -0.085905      -0.138825\n",
       "168          0.618759       0.591327\n",
       "62           0.560911       0.322324\n",
       "197         -0.186663      -0.234898\n",
       "89           0.537883       0.514469\n",
       "6           -0.423508      -0.427043\n",
       "195         -1.593023      -1.234053\n",
       "164         -0.520627      -0.407828\n",
       "70           0.727318       0.821901\n",
       "154          0.313867       0.303109\n",
       "151         -0.725073      -0.465472\n",
       "82          -0.704565      -0.523115\n",
       "126         -0.658129      -1.426198\n",
       "145         -0.763401      -0.715261\n",
       "73          -0.737240      -0.580759\n",
       "77          -0.018930       0.034106\n",
       "19           0.053358       0.110964\n",
       "190         -0.285379      -0.619188\n",
       "29          -0.897936      -0.676832\n",
       "69           1.346494       1.590482\n",
       "80          -0.469110      -0.427043\n",
       "28           1.046633       0.937188\n",
       "58           1.486419       1.878700\n",
       "122         -0.019826      -0.465472\n",
       "101          1.743685       1.878700"
      ]
     },
     "metadata": {},
     "output_type": "display_data"
    },
    {
     "name": "stdout",
     "output_type": "stream",
     "text": [
      "MSE: 0.061133278589991395\n"
     ]
    }
   ],
   "source": [
    "# we will predict y using the test set \n",
    "w_test, cost_test = grad_descent(x_test, y_test, weights, 10000, 0.01)\n",
    "\n",
    "# use the optimized weights for prediction\n",
    "y_hat_test = predict(x_test, w_test)\n",
    "y_test_df = pd.DataFrame({'Predicted y_test': y_hat_test ,'Actual y_test': y_test})\n",
    "display(y_test_df)\n",
    "\n",
    "# evaluate the performance using MSE\n",
    "print(\"MSE: {}\".format(mean_squared_error(y_test, y_hat_test)))"
   ]
  },
  {
   "cell_type": "markdown",
   "id": "9dab27da",
   "metadata": {},
   "source": [
    "For the evaluation on the quantitative response y on the test set:\n",
    "The MSE has a value of 0.06113, which is lower compared to the MSE score of the train set (MSE = 0.10985). With this in mind, the accuracy of the model towards predicting the actual values is better than that of the train set."
   ]
  },
  {
   "cell_type": "markdown",
   "id": "29d41086",
   "metadata": {},
   "source": [
    "## Reverting the standardized data into the original form "
   ]
  },
  {
   "cell_type": "code",
   "execution_count": 19,
   "id": "772ced79",
   "metadata": {},
   "outputs": [
    {
     "data": {
      "text/html": [
       "<div>\n",
       "<style scoped>\n",
       "    .dataframe tbody tr th:only-of-type {\n",
       "        vertical-align: middle;\n",
       "    }\n",
       "\n",
       "    .dataframe tbody tr th {\n",
       "        vertical-align: top;\n",
       "    }\n",
       "\n",
       "    .dataframe thead th {\n",
       "        text-align: right;\n",
       "    }\n",
       "</style>\n",
       "<table border=\"1\" class=\"dataframe\">\n",
       "  <thead>\n",
       "    <tr style=\"text-align: right;\">\n",
       "      <th></th>\n",
       "      <th>TV</th>\n",
       "      <th>Radio</th>\n",
       "      <th>Newspaper</th>\n",
       "      <th>Sales</th>\n",
       "    </tr>\n",
       "  </thead>\n",
       "  <tbody>\n",
       "    <tr>\n",
       "      <th>0</th>\n",
       "      <td>230.308426</td>\n",
       "      <td>37.836477</td>\n",
       "      <td>69.296979</td>\n",
       "      <td>22.120270</td>\n",
       "    </tr>\n",
       "    <tr>\n",
       "      <th>1</th>\n",
       "      <td>44.242678</td>\n",
       "      <td>39.340241</td>\n",
       "      <td>45.136502</td>\n",
       "      <td>10.390910</td>\n",
       "    </tr>\n",
       "    <tr>\n",
       "      <th>2</th>\n",
       "      <td>16.874171</td>\n",
       "      <td>45.956803</td>\n",
       "      <td>69.397230</td>\n",
       "      <td>9.288149</td>\n",
       "    </tr>\n",
       "    <tr>\n",
       "      <th>3</th>\n",
       "      <td>151.511186</td>\n",
       "      <td>41.345260</td>\n",
       "      <td>58.570128</td>\n",
       "      <td>18.511236</td>\n",
       "    </tr>\n",
       "    <tr>\n",
       "      <th>4</th>\n",
       "      <td>180.884712</td>\n",
       "      <td>10.768723</td>\n",
       "      <td>58.469877</td>\n",
       "      <td>12.897183</td>\n",
       "    </tr>\n",
       "    <tr>\n",
       "      <th>...</th>\n",
       "      <td>...</td>\n",
       "      <td>...</td>\n",
       "      <td>...</td>\n",
       "      <td>...</td>\n",
       "    </tr>\n",
       "    <tr>\n",
       "      <th>195</th>\n",
       "      <td>37.926869</td>\n",
       "      <td>3.650906</td>\n",
       "      <td>13.757957</td>\n",
       "      <td>7.583883</td>\n",
       "    </tr>\n",
       "    <tr>\n",
       "      <th>196</th>\n",
       "      <td>94.067396</td>\n",
       "      <td>4.853917</td>\n",
       "      <td>8.043654</td>\n",
       "      <td>9.689153</td>\n",
       "    </tr>\n",
       "    <tr>\n",
       "      <th>197</th>\n",
       "      <td>177.075176</td>\n",
       "      <td>9.264959</td>\n",
       "      <td>6.339388</td>\n",
       "      <td>12.796932</td>\n",
       "    </tr>\n",
       "    <tr>\n",
       "      <th>198</th>\n",
       "      <td>283.942679</td>\n",
       "      <td>42.047016</td>\n",
       "      <td>66.289451</td>\n",
       "      <td>25.528802</td>\n",
       "    </tr>\n",
       "    <tr>\n",
       "      <th>199</th>\n",
       "      <td>232.313445</td>\n",
       "      <td>8.563202</td>\n",
       "      <td>8.645159</td>\n",
       "      <td>13.398438</td>\n",
       "    </tr>\n",
       "  </tbody>\n",
       "</table>\n",
       "<p>200 rows × 4 columns</p>\n",
       "</div>"
      ],
      "text/plain": [
       "             TV      Radio  Newspaper      Sales\n",
       "0    230.308426  37.836477  69.296979  22.120270\n",
       "1     44.242678  39.340241  45.136502  10.390910\n",
       "2     16.874171  45.956803  69.397230   9.288149\n",
       "3    151.511186  41.345260  58.570128  18.511236\n",
       "4    180.884712  10.768723  58.469877  12.897183\n",
       "..          ...        ...        ...        ...\n",
       "195   37.926869   3.650906  13.757957   7.583883\n",
       "196   94.067396   4.853917   8.043654   9.689153\n",
       "197  177.075176   9.264959   6.339388  12.796932\n",
       "198  283.942679  42.047016  66.289451  25.528802\n",
       "199  232.313445   8.563202   8.645159  13.398438\n",
       "\n",
       "[200 rows x 4 columns]"
      ]
     },
     "execution_count": 19,
     "metadata": {},
     "output_type": "execute_result"
    }
   ],
   "source": [
    "# creates a copy on the standardized df \n",
    "df_copy = standardized_df.copy()\n",
    "\n",
    "df_copy.drop('bias', inplace=True, axis=1)\n",
    "\n",
    "# reverting back the standardized data into the original form \n",
    "df_copy['TV'] = df_copy['TV'] * advertising_df['TV'].std() + advertising_df['TV'].mean()\n",
    "df_copy['Radio'] = df_copy['Radio'] * advertising_df['Radio'].std() + advertising_df['Radio'].mean()\n",
    "df_copy['Newspaper'] = df_copy['Newspaper'] * advertising_df['Newspaper'].std() + advertising_df['Newspaper'].mean()\n",
    "df_copy['Sales'] = df_copy['Sales'] * advertising_df['Sales'].std() + advertising_df['Sales'].mean()\n",
    "\n",
    "df_copy"
   ]
  },
  {
   "cell_type": "markdown",
   "id": "aa51027a",
   "metadata": {},
   "source": [
    "## Observe cost results and analyze\n",
    "We will be plotting the cost generated on both train and test set to see if there are any notable analysis we can get from it"
   ]
  },
  {
   "cell_type": "code",
   "execution_count": 20,
   "id": "761352b2",
   "metadata": {},
   "outputs": [
    {
     "data": {
      "image/png": "[encoded data removed]",
      "text/plain": [
       "<Figure size 432x288 with 1 Axes>"
      ]
     },
     "metadata": {
      "needs_background": "light"
     },
     "output_type": "display_data"
    }
   ],
   "source": [
    "# include the plots for train and test set costs\n",
    "plt.plot(cost_train, label='Train set cost')\n",
    "plt.plot(cost_test, label='Test set cost')\n",
    "\n",
    "# labels for the graph\n",
    "plt.title('Cost of Train and Test sets on Iteration')\n",
    "plt.xlabel('Iterarions')\n",
    "plt.ylabel('Cost')\n",
    "plt.legend()\n",
    "plt.show()"
   ]
  },
  {
   "cell_type": "markdown",
   "id": "948a98e8",
   "metadata": {},
   "source": [
    "Based on the graph, we can see that the cost function decreases as the number of iterations increase. With the use of gradient descent algorithm, it enables us to optimize the model to arrive at a lower cost for better optimization and accuracy on the response variable."
   ]
  },
  {
   "cell_type": "markdown",
   "id": "dcd4fed4",
   "metadata": {},
   "source": [
    "<a class=\"anchor\" id=\"questions\"></a>\n",
    "## Questions "
   ]
  },
  {
   "cell_type": "markdown",
   "id": "53c4dc94",
   "metadata": {},
   "source": [
    "### Q1"
   ]
  },
  {
   "cell_type": "code",
   "execution_count": 21,
   "id": "30affc2e",
   "metadata": {},
   "outputs": [
    {
     "name": "stdout",
     "output_type": "stream",
     "text": [
      "Weights: [-0.00450541  0.75410425  0.54070185 -0.00344046]\n",
      "\n",
      "Linear Model:\n",
      "h_𝜃(x) = -0.004505413612382048 + 0.7541042545198685*TV + 0.5407018457412038*Radio + -0.00344046297798029*Newspaper\n"
     ]
    }
   ],
   "source": [
    "# run the gradient descent algorithm to plug in the optimized weights into the linear model\n",
    "# for this case, we will use the initial weights that are 0s\n",
    "init_w = np.array([0.0, 0.0, 0.0, 0.0])\n",
    "\n",
    "# number of iterations is set to 50000\n",
    "# learning rate is set to 0.01 \n",
    "opt_w, cost = grad_descent(x_train, y_train, init_w, 50000, 0.01)\n",
    "print(\"Weights: {}\".format(opt_w))\n",
    "\n",
    "# plug the weights into their respective places in the linear model\n",
    "print(\"\\nLinear Model:\")\n",
    "print(\"h_𝜃(x) = {} + {}*TV + {}*Radio + {}*Newspaper\".format(opt_w[0], opt_w[1], opt_w[2], opt_w[3]))"
   ]
  },
  {
   "cell_type": "markdown",
   "id": "c776a66f",
   "metadata": {},
   "source": [
    "#### Q2: Provide a scatter plot of the ($\\hat{y}^{(i)}$) 𝑎𝑛𝑑 ${y}^{(i)}$ for both the train and test set. Is there a trend? Provide an r2 score (also available in sklearn)."
   ]
  },
  {
   "cell_type": "code",
   "execution_count": 22,
   "id": "b766bf0f",
   "metadata": {},
   "outputs": [
    {
     "data": {
      "image/png": "[encoded data removed]",
      "text/plain": [
       "<Figure size 432x288 with 1 Axes>"
      ]
     },
     "metadata": {
      "needs_background": "light"
     },
     "output_type": "display_data"
    },
    {
     "name": "stdout",
     "output_type": "stream",
     "text": [
      "r2 score = 0.8950671598198965\n"
     ]
    }
   ],
   "source": [
    "# Scatter plot for predicted and actual y values of the train set\n",
    "y_hat_train = predict(x_train, opt_w)\n",
    "\n",
    "plt.scatter(y_hat_train, y_train)\n",
    "plt.xlabel('Predicted y_train values')\n",
    "plt.ylabel('Actual y_train values')\n",
    "plt.title('Predicted y VS Actual y values in train set')\n",
    "plt.show()\n",
    "\n",
    "# r2 score for the train set\n",
    "r2_train = r2_score(y_train, y_hat_train)\n",
    "print(\"r2 score = {}\".format(r2_train))"
   ]
  },
  {
   "cell_type": "code",
   "execution_count": 23,
   "id": "4fe051fa",
   "metadata": {},
   "outputs": [
    {
     "data": {
      "image/png": "[encoded data removed]",
      "text/plain": [
       "<Figure size 432x288 with 1 Axes>"
      ]
     },
     "metadata": {
      "needs_background": "light"
     },
     "output_type": "display_data"
    },
    {
     "name": "stdout",
     "output_type": "stream",
     "text": [
      "r2 score = 0.9140334672656092\n"
     ]
    }
   ],
   "source": [
    "# Scatter plot for predicted and actual y values of the train set\n",
    "y_hat_test = predict(x_test, opt_w)\n",
    "\n",
    "plt.scatter(y_hat_test, y_test)\n",
    "plt.xlabel('Predicted y_test values')\n",
    "plt.ylabel('Actual y_test values')\n",
    "plt.title('Predicted y VS Actual y values in test set')\n",
    "plt.show()\n",
    "\n",
    "# r2 score for the train set\n",
    "r2_test = r2_score(y_test, y_hat_test)\n",
    "print(\"r2 score = {}\".format(r2_test))"
   ]
  },
  {
   "cell_type": "markdown",
   "id": "5738f784",
   "metadata": {},
   "source": [
    "Based on the graphs we have created for the train and test set, we can see that there is an upward trend for both of the sets on the predicted values to the actual ones. We can imply that as the actual y values get higher, we can also expect an increase in the predicted y values.\n",
    "\n",
    "For the r2 score, both test and train sets have a relatively high score which we can say that there is a high level of correlation with the predicted and actual y values. In addition, the test set's r2 score is greater than that of the train set's which means that our test set is more accurate in predicting the values."
   ]
  },
  {
   "cell_type": "markdown",
   "id": "79386ca8",
   "metadata": {},
   "source": [
    "#### Q3: What happens to the error, r2, and cost as the number of iterations increase? Show your data and proof. You can alternatively plot your result data for visualization and check until 50000 iterations or more (actually)"
   ]
  },
  {
   "cell_type": "markdown",
   "id": "4f6b91a6",
   "metadata": {},
   "source": [
    "We will be varying our iterations in 10, 100, 1000, 5000, 10000, 50000, 80000"
   ]
  },
  {
   "cell_type": "code",
   "execution_count": 24,
   "id": "13a6dad3",
   "metadata": {},
   "outputs": [
    {
     "data": {
      "image/png": "[encoded data removed]",
      "text/plain": [
       "<Figure size 432x288 with 1 Axes>"
      ]
     },
     "metadata": {
      "needs_background": "light"
     },
     "output_type": "display_data"
    },
    {
     "data": {
      "image/png": "[encoded data removed]",
      "text/plain": [
       "<Figure size 432x288 with 1 Axes>"
      ]
     },
     "metadata": {
      "needs_background": "light"
     },
     "output_type": "display_data"
    },
    {
     "data": {
      "image/png": "[encoded data removed]",
      "text/plain": [
       "<Figure size 432x288 with 1 Axes>"
      ]
     },
     "metadata": {
      "needs_background": "light"
     },
     "output_type": "display_data"
    },
    {
     "data": {
      "image/png": "[encoded data removed]",
      "text/plain": [
       "<Figure size 432x288 with 1 Axes>"
      ]
     },
     "metadata": {
      "needs_background": "light"
     },
     "output_type": "display_data"
    },
    {
     "data": {
      "image/png": "[encoded data removed]",
      "text/plain": [
       "<Figure size 432x288 with 1 Axes>"
      ]
     },
     "metadata": {
      "needs_background": "light"
     },
     "output_type": "display_data"
    },
    {
     "data": {
      "image/png": "[encoded data removed]",
      "text/plain": [
       "<Figure size 432x288 with 1 Axes>"
      ]
     },
     "metadata": {
      "needs_background": "light"
     },
     "output_type": "display_data"
    },
    {
     "data": {
      "image/png": "[encoded data removed]",
      "text/plain": [
       "<Figure size 432x288 with 1 Axes>"
      ]
     },
     "metadata": {
      "needs_background": "light"
     },
     "output_type": "display_data"
    }
   ],
   "source": [
    "# initialize lists for summary later\n",
    "iterations_list = [10, 100, 1000, 5000, 10000, 50000, 80000]\n",
    "mse_list = []\n",
    "cost_list = []\n",
    "r2_list = []\n",
    "\n",
    "# we will have a constant learning rate of 0.01\n",
    "# run the different elements for the number of iterations\n",
    "for i in iterations_list:\n",
    "    # run the GDA with init_w = 0 and a constant learning rate\n",
    "    iter_weights, iter_cost = grad_descent(x_train, y_train, init_w, i, 0.01) \n",
    "    plot_costs(iter_cost)  # plot the cost on each iteration\n",
    "    cost_list.append(iter_cost[-1]) # add the cost per iteration\n",
    "    \n",
    "    # get the error per iteration\n",
    "    y_pred = predict(x_train, iter_weights)\n",
    "    MSE = mean_squared_error(y_train, y_pred)\n",
    "    mse_list.append(MSE)\n",
    "    \n",
    "    # get r2 score per iteration\n",
    "    iter_r2 = r2_score(y_train, y_pred)\n",
    "    r2_list.append(iter_r2)"
   ]
  },
  {
   "cell_type": "code",
   "execution_count": 25,
   "id": "d91cde1a",
   "metadata": {},
   "outputs": [
    {
     "data": {
      "text/html": [
       "<style type=\"text/css\">\n",
       "</style>\n",
       "<table id=\"T_f8ead\">\n",
       "  <thead>\n",
       "    <tr>\n",
       "      <th class=\"blank level0\" >&nbsp;</th>\n",
       "      <th id=\"T_f8ead_level0_col0\" class=\"col_heading level0 col0\" >Iterations</th>\n",
       "      <th id=\"T_f8ead_level0_col1\" class=\"col_heading level0 col1\" >MSE</th>\n",
       "      <th id=\"T_f8ead_level0_col2\" class=\"col_heading level0 col2\" >Cost</th>\n",
       "      <th id=\"T_f8ead_level0_col3\" class=\"col_heading level0 col3\" >R2</th>\n",
       "    </tr>\n",
       "  </thead>\n",
       "  <tbody>\n",
       "    <tr>\n",
       "      <th id=\"T_f8ead_level0_row0\" class=\"row_heading level0 row0\" >0</th>\n",
       "      <td id=\"T_f8ead_row0_col0\" class=\"data row0 col0\" >10</td>\n",
       "      <td id=\"T_f8ead_row0_col1\" class=\"data row0 col1\" >0.856302190442955</td>\n",
       "      <td id=\"T_f8ead_row0_col2\" class=\"data row0 col2\" >0.436703947225544</td>\n",
       "      <td id=\"T_f8ead_row0_col3\" class=\"data row0 col3\" >0.182058041536763</td>\n",
       "    </tr>\n",
       "    <tr>\n",
       "      <th id=\"T_f8ead_level0_row1\" class=\"row_heading level0 row1\" >1</th>\n",
       "      <td id=\"T_f8ead_row1_col0\" class=\"data row1 col0\" >100</td>\n",
       "      <td id=\"T_f8ead_row1_col1\" class=\"data row1 col1\" >0.215192719136949</td>\n",
       "      <td id=\"T_f8ead_row1_col2\" class=\"data row1 col2\" >0.108705998496614</td>\n",
       "      <td id=\"T_f8ead_row1_col3\" class=\"data row1 col3\" >0.794447385394571</td>\n",
       "    </tr>\n",
       "    <tr>\n",
       "      <th id=\"T_f8ead_level0_row2\" class=\"row_heading level0 row2\" >2</th>\n",
       "      <td id=\"T_f8ead_row2_col0\" class=\"data row2 col0\" >1000</td>\n",
       "      <td id=\"T_f8ead_row2_col1\" class=\"data row2 col1\" >0.109854181588722</td>\n",
       "      <td id=\"T_f8ead_row2_col2\" class=\"data row2 col2\" >0.054927091786890</td>\n",
       "      <td id=\"T_f8ead_row2_col3\" class=\"data row2 col3\" >0.895067015550229</td>\n",
       "    </tr>\n",
       "    <tr>\n",
       "      <th id=\"T_f8ead_level0_row3\" class=\"row_heading level0 row3\" >3</th>\n",
       "      <td id=\"T_f8ead_row3_col0\" class=\"data row3 col0\" >5000</td>\n",
       "      <td id=\"T_f8ead_row3_col1\" class=\"data row3 col1\" >0.109854030553027</td>\n",
       "      <td id=\"T_f8ead_row3_col2\" class=\"data row3 col2\" >0.054927015276514</td>\n",
       "      <td id=\"T_f8ead_row3_col3\" class=\"data row3 col3\" >0.895067159819896</td>\n",
       "    </tr>\n",
       "    <tr>\n",
       "      <th id=\"T_f8ead_level0_row4\" class=\"row_heading level0 row4\" >4</th>\n",
       "      <td id=\"T_f8ead_row4_col0\" class=\"data row4 col0\" >10000</td>\n",
       "      <td id=\"T_f8ead_row4_col1\" class=\"data row4 col1\" >0.109854030553027</td>\n",
       "      <td id=\"T_f8ead_row4_col2\" class=\"data row4 col2\" >0.054927015276514</td>\n",
       "      <td id=\"T_f8ead_row4_col3\" class=\"data row4 col3\" >0.895067159819896</td>\n",
       "    </tr>\n",
       "    <tr>\n",
       "      <th id=\"T_f8ead_level0_row5\" class=\"row_heading level0 row5\" >5</th>\n",
       "      <td id=\"T_f8ead_row5_col0\" class=\"data row5 col0\" >50000</td>\n",
       "      <td id=\"T_f8ead_row5_col1\" class=\"data row5 col1\" >0.109854030553027</td>\n",
       "      <td id=\"T_f8ead_row5_col2\" class=\"data row5 col2\" >0.054927015276514</td>\n",
       "      <td id=\"T_f8ead_row5_col3\" class=\"data row5 col3\" >0.895067159819896</td>\n",
       "    </tr>\n",
       "    <tr>\n",
       "      <th id=\"T_f8ead_level0_row6\" class=\"row_heading level0 row6\" >6</th>\n",
       "      <td id=\"T_f8ead_row6_col0\" class=\"data row6 col0\" >80000</td>\n",
       "      <td id=\"T_f8ead_row6_col1\" class=\"data row6 col1\" >0.109854030553027</td>\n",
       "      <td id=\"T_f8ead_row6_col2\" class=\"data row6 col2\" >0.054927015276514</td>\n",
       "      <td id=\"T_f8ead_row6_col3\" class=\"data row6 col3\" >0.895067159819896</td>\n",
       "    </tr>\n",
       "  </tbody>\n",
       "</table>\n"
      ],
      "text/plain": [
       "<pandas.io.formats.style.Styler at 0x1ac4922faf0>"
      ]
     },
     "execution_count": 25,
     "metadata": {},
     "output_type": "execute_result"
    }
   ],
   "source": [
    "# create df to show the cost, error, and r2 score of the different iterations\n",
    "iter_summary_df= pd.DataFrame({'Iterations':iterations_list, 'MSE':mse_list, 'Cost':cost_list, 'R2':r2_list})\n",
    "\n",
    "# added styling to show 15 decimal points for better analysis\n",
    "iter_summary_df2 = iter_summary_df.style.format({'Iterations': '{}', 'MSE':'{:.15f}', 'Cost':'{:.15f}', 'R2':'{:.15f}'})\n",
    "iter_summary_df2"
   ]
  },
  {
   "cell_type": "markdown",
   "id": "c1aae050",
   "metadata": {},
   "source": [
    "Based on the summary df we have created for the different number of iterations and having a constant learning rate for the analysis, we can see that as the number of iterations increase, both the error and cost tend to decrease while the r2 score increases. At some point, the values for the error, cost, and r2 score would get constant as the number of iterations would increase at a higher value (i.e from 5000-80 000 iterations). This may imply that running a large number for iterations may produce almost similar results so it doesn't necessarily mean that larger values for iterations would make the model more accurate."
   ]
  },
  {
   "cell_type": "markdown",
   "id": "5c93a632",
   "metadata": {},
   "source": [
    "***Determining the optimal iteration***\n",
    "\n",
    "To determine the optimal iteration, we will find the minimal cost value generated from the gradient descent algorithm"
   ]
  },
  {
   "cell_type": "code",
   "execution_count": 26,
   "id": "6ba44cfe",
   "metadata": {},
   "outputs": [
    {
     "name": "stdout",
     "output_type": "stream",
     "text": [
      "Optimal iteration: 4149\n",
      "Minimal Cost: 0.0549270152765135\n"
     ]
    }
   ],
   "source": [
    "# Determine the optimal iteration\n",
    "# init_w = 0 for all weights\n",
    "# set the iteration to 60,000\n",
    "# set learning rate as 0.01\n",
    "iter_weights, iter_cost = grad_descent(x_train, y_train, init_w, 60000, 0.01) \n",
    "\n",
    "# locate the minimum value of the cost in the iter_cost list using min()\n",
    "# this enables us to get the optimal iteration with the lowest cost\n",
    "opt_iter = iter_cost.index(min(iter_cost))\n",
    "\n",
    "print(\"Optimal iteration: {}\".format(opt_iter))\n",
    "print(\"Minimal Cost: {}\".format(iter_cost[opt_iter]))"
   ]
  },
  {
   "cell_type": "markdown",
   "id": "d61f5821",
   "metadata": {},
   "source": [
    "Basing from the previous summary results on the number of iterations, at around iterations = 1000, we had the cost value to be 0.054927091786890. At this iteration, it had the least cost value. In finding the optimal iteration, we attained it to be at 4149th iteration which gave us the cost of 0.0549270152765135 which is less than the cost value at 1000th iteration."
   ]
  },
  {
   "cell_type": "markdown",
   "id": "ad3f1e24",
   "metadata": {},
   "source": [
    "#### Q4: Once you determine the optimal number of iterations, check the effect on the cost and error as you change the learning rate. The common learning rates in machine learning include 0.1, 0.01, 0.001, 0.0001, 0.2 but you have the option to include others. Visualize the cost function (vs the optimal number of iterations) of each learning rate in ONLY ONE PLOT. Provide your analysis."
   ]
  },
  {
   "cell_type": "code",
   "execution_count": 27,
   "id": "cf5454b1",
   "metadata": {},
   "outputs": [
    {
     "data": {
      "image/png": "[encoded data removed]",
      "text/plain": [
       "<Figure size 1008x720 with 1 Axes>"
      ]
     },
     "metadata": {
      "needs_background": "light"
     },
     "output_type": "display_data"
    }
   ],
   "source": [
    "# order the learning rate in ascending order for better visualization later on \n",
    "lr_list = [0.0001, 0.001, 0.01, 0.1, 0.2]\n",
    "\n",
    "# create a df to store the costs and for the visualization later\n",
    "lr_df = pd.DataFrame()\n",
    "\n",
    "# calculate costs of the GDA with varying learning rate\n",
    "# number of iterations used here is the optimal number of iterations\n",
    "for i in lr_list:\n",
    "    lr_weights, lr_costs = grad_descent(x_train, y_train, init_w, opt_iter, i)\n",
    "    \n",
    "    # store the costs in their respective lr columns\n",
    "    col_name = 'lr_'\n",
    "    lr_df['lr_'+str(i)] = lr_costs\n",
    "\n",
    "# show the cost on iterations on the different learning rate values \n",
    "lr_df.plot(figsize=(14,10), legend=True)\n",
    "plt.xlabel('Iterations')\n",
    "plt.ylabel('Cost')\n",
    "plt.title('Cost on iterations VS optimal number of iterations (per learning rate)')\n",
    "plt.show()"
   ]
  },
  {
   "cell_type": "markdown",
   "id": "b2f430d4",
   "metadata": {},
   "source": [
    "Based on the graph, we can see that a lower learning rate value means that it would take a greater number of iterations before being able to minimize the cost (refer to lr_0.0001 line) whereas a higher learning rate value shows that it would need a lesser amount number of iterations to attain the minimized cost. In addition, taking a large learning rate value would show a steeper line, which may miss out the true minimized cost of a dataset. "
   ]
  },
  {
   "cell_type": "markdown",
   "id": "15e95d6f",
   "metadata": {},
   "source": [
    "#### Q5: Is there a relationship on the learning rate and the number of iterations?"
   ]
  },
  {
   "cell_type": "markdown",
   "id": "74ebc229",
   "metadata": {},
   "source": [
    "The relationship on the learning rate and the number of iterations could be described as an inverse relationship because having a lower learning rate value would need a bigger number of iterations to be able to find the minimal cost to have an optimized model for prediction. On the other hand, having a larger learning rate would lessen the needed number of iterations to find the minimal cost for the optimized solution but there is a risk of taking bigger steps for optimizing the model since it may miss the true minimized cost value.  "
   ]
  },
  {
   "cell_type": "markdown",
   "id": "6d029e46",
   "metadata": {},
   "source": [
    "#### Q6: Compare the results with the results of ordinary least squares function."
   ]
  },
  {
   "cell_type": "code",
   "execution_count": 30,
   "id": "8f20f612",
   "metadata": {},
   "outputs": [
    {
     "name": "stdout",
     "output_type": "stream",
     "text": [
      "Intercept:  -0.004505413612382142\n",
      "Coefficients:  [ 0.75410425  0.54070185 -0.00344046]\n"
     ]
    }
   ],
   "source": [
    "# executing sklearn's OLS to be used for comparison with our implemented gradient descent algorithm\n",
    "sklearn_lin_reg = LinearRegression()\n",
    "sklearn_lin_reg.fit(x_train, y_train)\n",
    "\n",
    "r2_ols = sklearn_lin_reg.score(x_train, y_train)\n",
    "y_train_pred = sklearn_lin_reg.predict(x_train)\n",
    "\n",
    "print('Intercept: ', sklearn_lin_reg.intercept_)\n",
    "print('Coefficients: ', sklearn_lin_reg.coef_[1:])\n",
    "\n",
    "# r2 score of GDA\n",
    "r2_gda = r2_score(y_train, y_hat_train)"
   ]
  },
  {
   "cell_type": "code",
   "execution_count": 31,
   "id": "90ce3247",
   "metadata": {},
   "outputs": [
    {
     "name": "stdout",
     "output_type": "stream",
     "text": [
      "OLS R2 Score =  0.8950671598198965\n",
      "GDA R2 Score =  0.8950671598198965\n",
      "\n",
      " OLS coefficients:  [ 0.75410425  0.54070185 -0.00344046]\n",
      "\n",
      " GDA coefficients:  [ 0.75410425  0.54070185 -0.00344046]\n"
     ]
    }
   ],
   "source": [
    "print(\"OLS R2 Score = \", r2_ols)\n",
    "print(\"GDA R2 Score = \", r2_gda)\n",
    "\n",
    "print(\"\\n OLS coefficients: \", sklearn_lin_reg.coef_[1:])\n",
    "print(\"\\n GDA coefficients: \", opt_w[1:])"
   ]
  },
  {
   "cell_type": "markdown",
   "id": "7c7f5d70",
   "metadata": {},
   "source": [
    "By using Sklearn's OLS function, we can compare that to the implemented gradient descent algorithm. Based on the r2 score, both implementations attained the same value which is 0.89507. We can imply that there is no difference with regards to implementing to find the optimized model when using Sklearn's OLS and our implemented gradient descent algorithm"
   ]
  }
 ],
 "metadata": {
  "kernelspec": {
   "display_name": "Python 3 (ipykernel)",
   "language": "python",
   "name": "python3"
  },
  "language_info": {
   "codemirror_mode": {
    "name": "ipython",
    "version": 3
   },
   "file_extension": ".py",
   "mimetype": "text/x-python",
   "name": "python",
   "nbconvert_exporter": "python",
   "pygments_lexer": "ipython3",
   "version": "3.9.12"
  }
 },
 "nbformat": 4,
 "nbformat_minor": 5
}
